{
 "cells": [
  {
   "cell_type": "markdown",
   "id": "3d8751d4-56c7-4cdd-83e8-8d39e4813e52",
   "metadata": {},
   "source": [
    "# Emotion Classification in Text\n",
    "\n",
    "\n",
    "The goal of this project is to develop machine learning models to classify emotions in text samples. We will use the provided dataset to preprocess the text, extract features, train models, and evaluate their performance.\n",
    "\n",
    "## Loading and Preprocessing\n",
    "\n",
    "In this section, we will load the dataset and perform preprocessing steps to prepare the data.It includes:\n",
    "\n",
    "- **Loading the dataset:** Importing the data into a DataFrame.\n",
    "- **Text cleaning:** Removing punctuation and numbers from the text.\n",
    "- **Tokenization:** Splitting the text into individual words.\n",
    "- **Stopwords removal:** Eliminating common words that do not contribute to emotion classification."
   ]
  },
  {
   "cell_type": "code",
   "execution_count": 9,
   "id": "09c4e48d-43d8-4302-9fa8-7e3fdf804b36",
   "metadata": {},
   "outputs": [
    {
     "name": "stderr",
     "output_type": "stream",
     "text": [
      "[nltk_data] Downloading package punkt_tab to\n",
      "[nltk_data]     C:\\Users\\user\\AppData\\Roaming\\nltk_data...\n",
      "[nltk_data]   Unzipping tokenizers\\punkt_tab.zip.\n",
      "[nltk_data] Downloading package stopwords to\n",
      "[nltk_data]     C:\\Users\\user\\AppData\\Roaming\\nltk_data...\n",
      "[nltk_data]   Package stopwords is already up-to-date!\n",
      "[nltk_data] Downloading package punkt to\n",
      "[nltk_data]     C:\\Users\\user\\AppData\\Roaming\\nltk_data...\n",
      "[nltk_data]   Package punkt is already up-to-date!\n"
     ]
    },
    {
     "data": {
      "text/plain": [
       "True"
      ]
     },
     "execution_count": 9,
     "metadata": {},
     "output_type": "execute_result"
    }
   ],
   "source": [
    "import pandas as pd\n",
    "import numpy as np\n",
    "import re\n",
    "import nltk\n",
    "from nltk.corpus import stopwords\n",
    "from nltk.tokenize import word_tokenize\n",
    "\n",
    "nltk.download('punkt_tab')\n",
    "nltk.download('stopwords')\n",
    "nltk.download('punkt')"
   ]
  },
  {
   "cell_type": "code",
   "execution_count": 10,
   "id": "ad19d5be-33e4-434e-9178-c34f7e763a34",
   "metadata": {},
   "outputs": [
    {
     "data": {
      "text/html": [
       "<div>\n",
       "<style scoped>\n",
       "    .dataframe tbody tr th:only-of-type {\n",
       "        vertical-align: middle;\n",
       "    }\n",
       "\n",
       "    .dataframe tbody tr th {\n",
       "        vertical-align: top;\n",
       "    }\n",
       "\n",
       "    .dataframe thead th {\n",
       "        text-align: right;\n",
       "    }\n",
       "</style>\n",
       "<table border=\"1\" class=\"dataframe\">\n",
       "  <thead>\n",
       "    <tr style=\"text-align: right;\">\n",
       "      <th></th>\n",
       "      <th>Comment</th>\n",
       "      <th>Emotion</th>\n",
       "    </tr>\n",
       "  </thead>\n",
       "  <tbody>\n",
       "    <tr>\n",
       "      <th>0</th>\n",
       "      <td>i seriously hate one subject to death but now ...</td>\n",
       "      <td>fear</td>\n",
       "    </tr>\n",
       "    <tr>\n",
       "      <th>1</th>\n",
       "      <td>im so full of life i feel appalled</td>\n",
       "      <td>anger</td>\n",
       "    </tr>\n",
       "    <tr>\n",
       "      <th>2</th>\n",
       "      <td>i sit here to write i start to dig out my feel...</td>\n",
       "      <td>fear</td>\n",
       "    </tr>\n",
       "    <tr>\n",
       "      <th>3</th>\n",
       "      <td>ive been really angry with r and i feel like a...</td>\n",
       "      <td>joy</td>\n",
       "    </tr>\n",
       "    <tr>\n",
       "      <th>4</th>\n",
       "      <td>i feel suspicious if there is no one outside l...</td>\n",
       "      <td>fear</td>\n",
       "    </tr>\n",
       "  </tbody>\n",
       "</table>\n",
       "</div>"
      ],
      "text/plain": [
       "                                             Comment Emotion\n",
       "0  i seriously hate one subject to death but now ...    fear\n",
       "1                 im so full of life i feel appalled   anger\n",
       "2  i sit here to write i start to dig out my feel...    fear\n",
       "3  ive been really angry with r and i feel like a...     joy\n",
       "4  i feel suspicious if there is no one outside l...    fear"
      ]
     },
     "execution_count": 10,
     "metadata": {},
     "output_type": "execute_result"
    }
   ],
   "source": [
    "file = \"C:/Users/user/Desktop/Dataset/nlp_dataset.csv\"\n",
    "df = pd.read_csv(file)\n",
    "\n",
    "df.head()"
   ]
  },
  {
   "cell_type": "markdown",
   "id": "1d14af79-145e-4a0f-9979-8d2f12023921",
   "metadata": {},
   "source": [
    "### Preprocessing\n",
    "\n",
    "We will define a preprocessing function to clean the text. This involves removing punctuation, numbers, converting to lowercase, tokenizing, and removing stopwords."
   ]
  },
  {
   "cell_type": "code",
   "execution_count": 11,
   "id": "c9715350-229e-4531-a049-87e367381b0f",
   "metadata": {},
   "outputs": [],
   "source": [
    "def preprocess_text(text):\n",
    "    text = re.sub(r'[^\\w\\s]', '', text)  # Remove punctuation\n",
    "    text = re.sub(r'\\d+', '', text)      # Remove digits\n",
    "    text = text.lower()                   # Convert to lowercase\n",
    "    tokens = word_tokenize(text)          # Tokenize text\n",
    "    stop_words = set(stopwords.words('english'))\n",
    "    tokens = [word for word in tokens if word not in stop_words]  # Remove stopwords\n",
    "    return ' '.join(tokens)   "
   ]
  },
  {
   "cell_type": "code",
   "execution_count": 12,
   "id": "c38ebc3a-bbb3-4a5f-9f9e-8713fcb76a20",
   "metadata": {},
   "outputs": [
    {
     "data": {
      "text/html": [
       "<div>\n",
       "<style scoped>\n",
       "    .dataframe tbody tr th:only-of-type {\n",
       "        vertical-align: middle;\n",
       "    }\n",
       "\n",
       "    .dataframe tbody tr th {\n",
       "        vertical-align: top;\n",
       "    }\n",
       "\n",
       "    .dataframe thead th {\n",
       "        text-align: right;\n",
       "    }\n",
       "</style>\n",
       "<table border=\"1\" class=\"dataframe\">\n",
       "  <thead>\n",
       "    <tr style=\"text-align: right;\">\n",
       "      <th></th>\n",
       "      <th>cleaned_text</th>\n",
       "      <th>Emotion</th>\n",
       "    </tr>\n",
       "  </thead>\n",
       "  <tbody>\n",
       "    <tr>\n",
       "      <th>0</th>\n",
       "      <td>seriously hate one subject death feel reluctan...</td>\n",
       "      <td>fear</td>\n",
       "    </tr>\n",
       "    <tr>\n",
       "      <th>1</th>\n",
       "      <td>im full life feel appalled</td>\n",
       "      <td>anger</td>\n",
       "    </tr>\n",
       "    <tr>\n",
       "      <th>2</th>\n",
       "      <td>sit write start dig feelings think afraid acce...</td>\n",
       "      <td>fear</td>\n",
       "    </tr>\n",
       "    <tr>\n",
       "      <th>3</th>\n",
       "      <td>ive really angry r feel like idiot trusting fi...</td>\n",
       "      <td>joy</td>\n",
       "    </tr>\n",
       "    <tr>\n",
       "      <th>4</th>\n",
       "      <td>feel suspicious one outside like rapture happe...</td>\n",
       "      <td>fear</td>\n",
       "    </tr>\n",
       "  </tbody>\n",
       "</table>\n",
       "</div>"
      ],
      "text/plain": [
       "                                        cleaned_text Emotion\n",
       "0  seriously hate one subject death feel reluctan...    fear\n",
       "1                         im full life feel appalled   anger\n",
       "2  sit write start dig feelings think afraid acce...    fear\n",
       "3  ive really angry r feel like idiot trusting fi...     joy\n",
       "4  feel suspicious one outside like rapture happe...    fear"
      ]
     },
     "execution_count": 12,
     "metadata": {},
     "output_type": "execute_result"
    }
   ],
   "source": [
    "df['cleaned_text'] = df['Comment'].apply(preprocess_text)\n",
    "\n",
    "df[['cleaned_text', 'Emotion']].head()"
   ]
  },
  {
   "cell_type": "markdown",
   "id": "eb378a26-c4fa-49f0-b015-543b579ac2cc",
   "metadata": {},
   "source": [
    "## 2. Feature Extraction\n",
    "\n",
    "In this step, we will convert the cleaned text data into numerical features that can be used by machine learning models. We will use the `TfidfVectorizer` to transform the text data into a TF-IDF matrix.\n",
    "\n",
    "- **TF-IDF (Term Frequency-Inverse Document Frequency):** This method reflects the importance of words in the text relative to their occurrence across all documents."
   ]
  },
  {
   "cell_type": "code",
   "execution_count": 14,
   "id": "9ef94b1f-0ceb-4bb2-901c-7d52eb0a0a50",
   "metadata": {},
   "outputs": [
    {
     "data": {
      "text/plain": [
       "((4155, 8815), (1782, 8815))"
      ]
     },
     "execution_count": 14,
     "metadata": {},
     "output_type": "execute_result"
    }
   ],
   "source": [
    "from sklearn.feature_extraction.text import TfidfVectorizer\n",
    "\n",
    "vectorizer = TfidfVectorizer()\n",
    "X = vectorizer.fit_transform(df['cleaned_text'])\n",
    "y = df['Emotion']  \n",
    "\n",
    "from sklearn.model_selection import train_test_split\n",
    "X_train, X_test, y_train, y_test = train_test_split(X, y, test_size=0.3, random_state=42)\n",
    "\n",
    "X_train.shape, X_test.shape"
   ]
  },
  {
   "cell_type": "markdown",
   "id": "0396f56a-cfa1-4f34-a183-48e457198135",
   "metadata": {},
   "source": [
    "## 3. Model Development\n",
    "\n",
    "We will train two machine learning models on the preprocessed data:\n",
    "\n",
    "- **Naive Bayes:** A probabilistic classifier that works well with text data.\n",
    "- **Support Vector Machine (SVM):** A powerful model suitable for high-dimensional spaces."
   ]
  },
  {
   "cell_type": "code",
   "execution_count": 15,
   "id": "5ea794ef-c2d9-4b16-b62d-a86e77a56281",
   "metadata": {},
   "outputs": [],
   "source": [
    "from sklearn.naive_bayes import MultinomialNB\n",
    "from sklearn.svm import SVC\n",
    "\n",
    "nb_model = MultinomialNB()\n",
    "nb_model.fit(X_train, y_train)\n",
    "nb_predictions = nb_model.predict(X_test)\n",
    "\n",
    "svm_model = SVC()\n",
    "svm_model.fit(X_train, y_train)\n",
    "svm_predictions = svm_model.predict(X_test)"
   ]
  },
  {
   "cell_type": "markdown",
   "id": "101ced11-2e2e-4512-9006-f9750282aafa",
   "metadata": {},
   "source": [
    "## 4. Model Comparison\n",
    "\n",
    "In this section, we will evaluate and compare the performance of the Naive Bayes and SVM models using accuracy and F1-score. These metrics will help us understand how well each model performs in classifying emotions.\n",
    "\n",
    "- **Accuracy:** The proportion of correctly classified instances.\n",
    "- **F1-Score:** A weighted average of precision and recall, providing a balance between them."
   ]
  },
  {
   "cell_type": "code",
   "execution_count": 16,
   "id": "80d7ad7d-6d8e-47da-9ee9-9479b1f60ffc",
   "metadata": {},
   "outputs": [
    {
     "name": "stdout",
     "output_type": "stream",
     "text": [
      "Naive Bayes Accuracy: 0.90\n",
      "Naive Bayes F1-Score: 0.90\n",
      "SVM Accuracy: 0.92\n",
      "SVM F1-Score: 0.92\n"
     ]
    }
   ],
   "source": [
    "from sklearn.metrics import accuracy_score, f1_score\n",
    "\n",
    "# Evaluate Naive Bayes\n",
    "nb_accuracy = accuracy_score(y_test, nb_predictions)\n",
    "nb_f1 = f1_score(y_test, nb_predictions, average='weighted')\n",
    "\n",
    "# Evaluate SVM\n",
    "svm_accuracy = accuracy_score(y_test, svm_predictions)\n",
    "svm_f1 = f1_score(y_test, svm_predictions, average='weighted')\n",
    "\n",
    "# Print results\n",
    "print(f'Naive Bayes Accuracy: {nb_accuracy:.2f}')\n",
    "print(f'Naive Bayes F1-Score: {nb_f1:.2f}')\n",
    "print(f'SVM Accuracy: {svm_accuracy:.2f}')\n",
    "print(f'SVM F1-Score: {svm_f1:.2f}')"
   ]
  },
  {
   "cell_type": "code",
   "execution_count": 17,
   "id": "0d037b59-ffcc-43f0-9656-e22b8d1ed6d3",
   "metadata": {},
   "outputs": [
    {
     "data": {
      "image/png": "[encoded data removed]",
      "text/plain": [
       "<Figure size 640x480 with 1 Axes>"
      ]
     },
     "metadata": {},
     "output_type": "display_data"
    }
   ],
   "source": [
    "# Visualization\n",
    "import matplotlib.pyplot as plt\n",
    "import seaborn as sns\n",
    "\n",
    "metrics = pd.DataFrame({\n",
    "    'Model': ['Naive Bayes', 'SVM'],\n",
    "    'Accuracy': [nb_accuracy, svm_accuracy],\n",
    "    'F1-Score': [nb_f1, svm_f1]\n",
    "})\n",
    "\n",
    "metrics.plot(x='Model', kind='bar', stacked=False)\n",
    "plt.title('Model Performance Comparison')\n",
    "plt.ylabel('Score')\n",
    "plt.show()\n"
   ]
  },
  {
   "cell_type": "markdown",
   "id": "c914cacc-43b1-4f23-986c-5b3234f05e71",
   "metadata": {},
   "source": [
    "## Predicting New Sentences\n",
    "\n",
    "In this section, we will use the trained models to predict emotions for new text samples. We will preprocess the new text, transform it using the `TfidfVectorizer`, and then use the Naive Bayes and SVM models to make predictions.\n",
    "\n",
    "### New Sentence Prediction\n",
    "\n",
    "We will define a function that takes a new sentence, preprocesses it, extracts features, and then predicts the emotion using both models.\n"
   ]
  },
  {
   "cell_type": "code",
   "execution_count": 18,
   "id": "a007432d-acce-4202-94a5-eb2a0b9bfcc5",
   "metadata": {},
   "outputs": [
    {
     "name": "stdout",
     "output_type": "stream",
     "text": [
      "Sentence: \"I am feeling great today!\"\n",
      "Naive Bayes Prediction: joy\n",
      "SVM Prediction: joy\n",
      "--------------------------------------------------\n",
      "Sentence: \"I am very sad about the news.\"\n",
      "Naive Bayes Prediction: fear\n",
      "SVM Prediction: anger\n",
      "--------------------------------------------------\n",
      "Sentence: \"The weather is okay, neither too good nor too bad.\"\n",
      "Naive Bayes Prediction: anger\n",
      "SVM Prediction: joy\n",
      "--------------------------------------------------\n",
      "Sentence: \"I am excited for the upcoming event!\"\n",
      "Naive Bayes Prediction: joy\n",
      "SVM Prediction: joy\n",
      "--------------------------------------------------\n"
     ]
    }
   ],
   "source": [
    "def predict_emotion(sentence):\n",
    "    # Preprocess the new sentence\n",
    "    cleaned_sentence = preprocess_text(sentence)\n",
    "    \n",
    "    # Transform the new sentence using the same vectorizer\n",
    "    sentence_vector = vectorizer.transform([cleaned_sentence])\n",
    "    \n",
    "    # Predict using Naive Bayes model\n",
    "    nb_prediction = nb_model.predict(sentence_vector)[0]\n",
    "    \n",
    "    # Predict using SVM model\n",
    "    svm_prediction = svm_model.predict(sentence_vector)[0]\n",
    "    \n",
    "    return nb_prediction, svm_prediction\n",
    "\n",
    "# Test with new sentences\n",
    "new_sentences = [\n",
    "    \"I am feeling great today!\",\n",
    "    \"I am very sad about the news.\",\n",
    "    \"The weather is okay, neither too good nor too bad.\",\n",
    "    \"I am excited for the upcoming event!\",\n",
    "]\n",
    "\n",
    "# Get predictions\n",
    "for sentence in new_sentences:\n",
    "    nb_pred, svm_pred = predict_emotion(sentence)\n",
    "    print(f'Sentence: \"{sentence}\"')\n",
    "    print(f'Naive Bayes Prediction: {nb_pred}')\n",
    "    print(f'SVM Prediction: {svm_pred}')\n",
    "    print('-' * 50)\n"
   ]
  },
  {
   "cell_type": "markdown",
   "id": "8b683c24-fec8-490f-97a9-f775c616d712",
   "metadata": {},
   "source": [
    "### Explanation of Predicting new sentenses\n",
    "\n",
    "1. **Preprocessing:** We apply the same preprocessing steps to the new sentence as we did to the training data.\n",
    "2. **Feature Extraction:** We use the `TfidfVectorizer` to transform the preprocessed text into numerical features.\n",
    "3. **Prediction:** Both the Naive Bayes and SVM models are used to predict the emotion of the new sentence.\n",
    "\n",
    "This section allows you to evaluate how well the trained models can classify new text samples and provides insights into their practical applicability."
   ]
  },
  {
   "cell_type": "markdown",
   "id": "5b55bf15-9f51-4bd6-89d3-689cc63dcff9",
   "metadata": {},
   "source": [
    "## Conclusion\n",
    "\n",
    "In this project, we implemented machine learning models to classify emotions in text data. We examined different preprocessing techniques, utilized TF-IDF for feature extraction, and evaluated the performance of both Naive Bayes and SVM models. Each model demonstrated distinct strengths, and our results highlighted their effectiveness for emotion classification."
   ]
  },
  {
   "cell_type": "code",
   "execution_count": null,
   "id": "5c433154-9f5e-4443-bb08-2b76e117a244",
   "metadata": {},
   "outputs": [],
   "source": []
  }
 ],
 "metadata": {
  "kernelspec": {
   "display_name": "Python 3 (ipykernel)",
   "language": "python",
   "name": "python3"
  },
  "language_info": {
   "codemirror_mode": {
    "name": "ipython",
    "version": 3
   },
   "file_extension": ".py",
   "mimetype": "text/x-python",
   "name": "python",
   "nbconvert_exporter": "python",
   "pygments_lexer": "ipython3",
   "version": "3.12.5"
  }
 },
 "nbformat": 4,
 "nbformat_minor": 5
}
